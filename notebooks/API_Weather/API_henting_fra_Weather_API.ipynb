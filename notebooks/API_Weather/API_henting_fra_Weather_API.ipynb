{
 "cells": [
  {
   "cell_type": "markdown",
   "metadata": {},
   "source": [
    "# API WEATHER"
   ]
  },
  {
   "cell_type": "markdown",
   "metadata": {},
   "source": [
    "### Henter og lagrer data fra API Weather for Trondheim"
   ]
  },
  {
   "cell_type": "code",
   "execution_count": 1,
   "metadata": {},
   "outputs": [],
   "source": [
    "import requests #for å hente ut data fra api\n",
    "import pandas as pd #tabeller\n",
    "from datetime import datetime, timedelta\n",
    "import os\n",
    "from dotenv import load_dotenv\n",
    "import sys\n",
    "sys.path.insert(0,'../../src') #legger til SRC, slik vi kan importere kode derifra\n",
    "from Api_weather import hente_data_fra_api"
   ]
  },
  {
   "cell_type": "code",
   "execution_count": 2,
   "metadata": {},
   "outputs": [
    {
     "name": "stdout",
     "output_type": "stream",
     "text": [
      "Det er en nettverksfeil som befinner seg på 2025-01-16 : 400 Client Error: Bad Request for url: https://api.weatherapi.com/v1/history.json?key=Dfe4267f3a1e40f68ed92609253103&q=Trondheim&dt=2025-01-16\n",
      "Det er en nettverksfeil som befinner seg på 2025-01-17 : 400 Client Error: Bad Request for url: https://api.weatherapi.com/v1/history.json?key=Dfe4267f3a1e40f68ed92609253103&q=Trondheim&dt=2025-01-17\n",
      "Det er en nettverksfeil som befinner seg på 2025-01-18 : 400 Client Error: Bad Request for url: https://api.weatherapi.com/v1/history.json?key=Dfe4267f3a1e40f68ed92609253103&q=Trondheim&dt=2025-01-18\n",
      "Det er en nettverksfeil som befinner seg på 2025-01-19 : 400 Client Error: Bad Request for url: https://api.weatherapi.com/v1/history.json?key=Dfe4267f3a1e40f68ed92609253103&q=Trondheim&dt=2025-01-19\n",
      "Det er en nettverksfeil som befinner seg på 2025-01-20 : 400 Client Error: Bad Request for url: https://api.weatherapi.com/v1/history.json?key=Dfe4267f3a1e40f68ed92609253103&q=Trondheim&dt=2025-01-20\n",
      "Det er en nettverksfeil som befinner seg på 2025-01-21 : 400 Client Error: Bad Request for url: https://api.weatherapi.com/v1/history.json?key=Dfe4267f3a1e40f68ed92609253103&q=Trondheim&dt=2025-01-21\n",
      "Det er en nettverksfeil som befinner seg på 2025-01-22 : 400 Client Error: Bad Request for url: https://api.weatherapi.com/v1/history.json?key=Dfe4267f3a1e40f68ed92609253103&q=Trondheim&dt=2025-01-22\n",
      "Det er en nettverksfeil som befinner seg på 2025-01-23 : 400 Client Error: Bad Request for url: https://api.weatherapi.com/v1/history.json?key=Dfe4267f3a1e40f68ed92609253103&q=Trondheim&dt=2025-01-23\n",
      "Det er en nettverksfeil som befinner seg på 2025-01-24 : 400 Client Error: Bad Request for url: https://api.weatherapi.com/v1/history.json?key=Dfe4267f3a1e40f68ed92609253103&q=Trondheim&dt=2025-01-24\n",
      "Det er en nettverksfeil som befinner seg på 2025-01-25 : 400 Client Error: Bad Request for url: https://api.weatherapi.com/v1/history.json?key=Dfe4267f3a1e40f68ed92609253103&q=Trondheim&dt=2025-01-25\n",
      "Det er en nettverksfeil som befinner seg på 2025-01-26 : 400 Client Error: Bad Request for url: https://api.weatherapi.com/v1/history.json?key=Dfe4267f3a1e40f68ed92609253103&q=Trondheim&dt=2025-01-26\n",
      "Det er en nettverksfeil som befinner seg på 2025-01-27 : 400 Client Error: Bad Request for url: https://api.weatherapi.com/v1/history.json?key=Dfe4267f3a1e40f68ed92609253103&q=Trondheim&dt=2025-01-27\n",
      "Det er en nettverksfeil som befinner seg på 2025-01-28 : 400 Client Error: Bad Request for url: https://api.weatherapi.com/v1/history.json?key=Dfe4267f3a1e40f68ed92609253103&q=Trondheim&dt=2025-01-28\n",
      "Det er en nettverksfeil som befinner seg på 2025-01-29 : 400 Client Error: Bad Request for url: https://api.weatherapi.com/v1/history.json?key=Dfe4267f3a1e40f68ed92609253103&q=Trondheim&dt=2025-01-29\n",
      "Det er en nettverksfeil som befinner seg på 2025-01-30 : 400 Client Error: Bad Request for url: https://api.weatherapi.com/v1/history.json?key=Dfe4267f3a1e40f68ed92609253103&q=Trondheim&dt=2025-01-30\n",
      "Det er en nettverksfeil som befinner seg på 2025-01-31 : 400 Client Error: Bad Request for url: https://api.weatherapi.com/v1/history.json?key=Dfe4267f3a1e40f68ed92609253103&q=Trondheim&dt=2025-01-31\n",
      "Det er en nettverksfeil som befinner seg på 2025-02-01 : 400 Client Error: Bad Request for url: https://api.weatherapi.com/v1/history.json?key=Dfe4267f3a1e40f68ed92609253103&q=Trondheim&dt=2025-02-01\n",
      "Det er en nettverksfeil som befinner seg på 2025-02-02 : 400 Client Error: Bad Request for url: https://api.weatherapi.com/v1/history.json?key=Dfe4267f3a1e40f68ed92609253103&q=Trondheim&dt=2025-02-02\n",
      "Det er en nettverksfeil som befinner seg på 2025-02-03 : 400 Client Error: Bad Request for url: https://api.weatherapi.com/v1/history.json?key=Dfe4267f3a1e40f68ed92609253103&q=Trondheim&dt=2025-02-03\n",
      "Det er en nettverksfeil som befinner seg på 2025-02-04 : 400 Client Error: Bad Request for url: https://api.weatherapi.com/v1/history.json?key=Dfe4267f3a1e40f68ed92609253103&q=Trondheim&dt=2025-02-04\n",
      "Det er en nettverksfeil som befinner seg på 2025-02-05 : 400 Client Error: Bad Request for url: https://api.weatherapi.com/v1/history.json?key=Dfe4267f3a1e40f68ed92609253103&q=Trondheim&dt=2025-02-05\n",
      "Det er en nettverksfeil som befinner seg på 2025-02-06 : 400 Client Error: Bad Request for url: https://api.weatherapi.com/v1/history.json?key=Dfe4267f3a1e40f68ed92609253103&q=Trondheim&dt=2025-02-06\n",
      "Det er en nettverksfeil som befinner seg på 2025-02-07 : 400 Client Error: Bad Request for url: https://api.weatherapi.com/v1/history.json?key=Dfe4267f3a1e40f68ed92609253103&q=Trondheim&dt=2025-02-07\n",
      "Det er en nettverksfeil som befinner seg på 2025-02-08 : 400 Client Error: Bad Request for url: https://api.weatherapi.com/v1/history.json?key=Dfe4267f3a1e40f68ed92609253103&q=Trondheim&dt=2025-02-08\n",
      "Det er en nettverksfeil som befinner seg på 2025-02-09 : 400 Client Error: Bad Request for url: https://api.weatherapi.com/v1/history.json?key=Dfe4267f3a1e40f68ed92609253103&q=Trondheim&dt=2025-02-09\n",
      "Det er en nettverksfeil som befinner seg på 2025-02-10 : 400 Client Error: Bad Request for url: https://api.weatherapi.com/v1/history.json?key=Dfe4267f3a1e40f68ed92609253103&q=Trondheim&dt=2025-02-10\n",
      "Det er en nettverksfeil som befinner seg på 2025-02-11 : 400 Client Error: Bad Request for url: https://api.weatherapi.com/v1/history.json?key=Dfe4267f3a1e40f68ed92609253103&q=Trondheim&dt=2025-02-11\n",
      "Det er en nettverksfeil som befinner seg på 2025-02-12 : 400 Client Error: Bad Request for url: https://api.weatherapi.com/v1/history.json?key=Dfe4267f3a1e40f68ed92609253103&q=Trondheim&dt=2025-02-12\n",
      "Det er en nettverksfeil som befinner seg på 2025-02-13 : 400 Client Error: Bad Request for url: https://api.weatherapi.com/v1/history.json?key=Dfe4267f3a1e40f68ed92609253103&q=Trondheim&dt=2025-02-13\n",
      "Det er en nettverksfeil som befinner seg på 2025-02-14 : 400 Client Error: Bad Request for url: https://api.weatherapi.com/v1/history.json?key=Dfe4267f3a1e40f68ed92609253103&q=Trondheim&dt=2025-02-14\n",
      "Det er en nettverksfeil som befinner seg på 2025-02-15 : 400 Client Error: Bad Request for url: https://api.weatherapi.com/v1/history.json?key=Dfe4267f3a1e40f68ed92609253103&q=Trondheim&dt=2025-02-15\n",
      "Det er en nettverksfeil som befinner seg på 2025-02-16 : 400 Client Error: Bad Request for url: https://api.weatherapi.com/v1/history.json?key=Dfe4267f3a1e40f68ed92609253103&q=Trondheim&dt=2025-02-16\n",
      "Det er en nettverksfeil som befinner seg på 2025-02-17 : 400 Client Error: Bad Request for url: https://api.weatherapi.com/v1/history.json?key=Dfe4267f3a1e40f68ed92609253103&q=Trondheim&dt=2025-02-17\n",
      "Det er en nettverksfeil som befinner seg på 2025-02-18 : 400 Client Error: Bad Request for url: https://api.weatherapi.com/v1/history.json?key=Dfe4267f3a1e40f68ed92609253103&q=Trondheim&dt=2025-02-18\n",
      "Det er en nettverksfeil som befinner seg på 2025-02-19 : 400 Client Error: Bad Request for url: https://api.weatherapi.com/v1/history.json?key=Dfe4267f3a1e40f68ed92609253103&q=Trondheim&dt=2025-02-19\n",
      "Det er en nettverksfeil som befinner seg på 2025-02-20 : 400 Client Error: Bad Request for url: https://api.weatherapi.com/v1/history.json?key=Dfe4267f3a1e40f68ed92609253103&q=Trondheim&dt=2025-02-20\n",
      "Det er en nettverksfeil som befinner seg på 2025-02-21 : 400 Client Error: Bad Request for url: https://api.weatherapi.com/v1/history.json?key=Dfe4267f3a1e40f68ed92609253103&q=Trondheim&dt=2025-02-21\n",
      "Det er en nettverksfeil som befinner seg på 2025-02-22 : 400 Client Error: Bad Request for url: https://api.weatherapi.com/v1/history.json?key=Dfe4267f3a1e40f68ed92609253103&q=Trondheim&dt=2025-02-22\n",
      "Det er en nettverksfeil som befinner seg på 2025-02-23 : 400 Client Error: Bad Request for url: https://api.weatherapi.com/v1/history.json?key=Dfe4267f3a1e40f68ed92609253103&q=Trondheim&dt=2025-02-23\n",
      "Det er en nettverksfeil som befinner seg på 2025-02-24 : 400 Client Error: Bad Request for url: https://api.weatherapi.com/v1/history.json?key=Dfe4267f3a1e40f68ed92609253103&q=Trondheim&dt=2025-02-24\n",
      "Det er en nettverksfeil som befinner seg på 2025-02-25 : 400 Client Error: Bad Request for url: https://api.weatherapi.com/v1/history.json?key=Dfe4267f3a1e40f68ed92609253103&q=Trondheim&dt=2025-02-25\n",
      "Det er en nettverksfeil som befinner seg på 2025-02-26 : 400 Client Error: Bad Request for url: https://api.weatherapi.com/v1/history.json?key=Dfe4267f3a1e40f68ed92609253103&q=Trondheim&dt=2025-02-26\n",
      "Det er en nettverksfeil som befinner seg på 2025-02-27 : 400 Client Error: Bad Request for url: https://api.weatherapi.com/v1/history.json?key=Dfe4267f3a1e40f68ed92609253103&q=Trondheim&dt=2025-02-27\n",
      "Det er en nettverksfeil som befinner seg på 2025-02-28 : 400 Client Error: Bad Request for url: https://api.weatherapi.com/v1/history.json?key=Dfe4267f3a1e40f68ed92609253103&q=Trondheim&dt=2025-02-28\n",
      "Det er en nettverksfeil som befinner seg på 2025-03-01 : 400 Client Error: Bad Request for url: https://api.weatherapi.com/v1/history.json?key=Dfe4267f3a1e40f68ed92609253103&q=Trondheim&dt=2025-03-01\n",
      "Det er en nettverksfeil som befinner seg på 2025-03-02 : 400 Client Error: Bad Request for url: https://api.weatherapi.com/v1/history.json?key=Dfe4267f3a1e40f68ed92609253103&q=Trondheim&dt=2025-03-02\n",
      "Det er en nettverksfeil som befinner seg på 2025-03-03 : 400 Client Error: Bad Request for url: https://api.weatherapi.com/v1/history.json?key=Dfe4267f3a1e40f68ed92609253103&q=Trondheim&dt=2025-03-03\n",
      "Det er en nettverksfeil som befinner seg på 2025-03-04 : 400 Client Error: Bad Request for url: https://api.weatherapi.com/v1/history.json?key=Dfe4267f3a1e40f68ed92609253103&q=Trondheim&dt=2025-03-04\n",
      "Det er en nettverksfeil som befinner seg på 2025-03-05 : 400 Client Error: Bad Request for url: https://api.weatherapi.com/v1/history.json?key=Dfe4267f3a1e40f68ed92609253103&q=Trondheim&dt=2025-03-05\n",
      "Det er en nettverksfeil som befinner seg på 2025-03-06 : 400 Client Error: Bad Request for url: https://api.weatherapi.com/v1/history.json?key=Dfe4267f3a1e40f68ed92609253103&q=Trondheim&dt=2025-03-06\n",
      "Det er en nettverksfeil som befinner seg på 2025-03-07 : 400 Client Error: Bad Request for url: https://api.weatherapi.com/v1/history.json?key=Dfe4267f3a1e40f68ed92609253103&q=Trondheim&dt=2025-03-07\n",
      "Det er en nettverksfeil som befinner seg på 2025-03-08 : 400 Client Error: Bad Request for url: https://api.weatherapi.com/v1/history.json?key=Dfe4267f3a1e40f68ed92609253103&q=Trondheim&dt=2025-03-08\n",
      "Det er en nettverksfeil som befinner seg på 2025-03-09 : 400 Client Error: Bad Request for url: https://api.weatherapi.com/v1/history.json?key=Dfe4267f3a1e40f68ed92609253103&q=Trondheim&dt=2025-03-09\n",
      "Det er en nettverksfeil som befinner seg på 2025-03-10 : 400 Client Error: Bad Request for url: https://api.weatherapi.com/v1/history.json?key=Dfe4267f3a1e40f68ed92609253103&q=Trondheim&dt=2025-03-10\n",
      "Det er en nettverksfeil som befinner seg på 2025-03-11 : 400 Client Error: Bad Request for url: https://api.weatherapi.com/v1/history.json?key=Dfe4267f3a1e40f68ed92609253103&q=Trondheim&dt=2025-03-11\n",
      "Det er en nettverksfeil som befinner seg på 2025-03-12 : 400 Client Error: Bad Request for url: https://api.weatherapi.com/v1/history.json?key=Dfe4267f3a1e40f68ed92609253103&q=Trondheim&dt=2025-03-12\n",
      "Det er en nettverksfeil som befinner seg på 2025-03-13 : 400 Client Error: Bad Request for url: https://api.weatherapi.com/v1/history.json?key=Dfe4267f3a1e40f68ed92609253103&q=Trondheim&dt=2025-03-13\n",
      "Det er en nettverksfeil som befinner seg på 2025-03-14 : 400 Client Error: Bad Request for url: https://api.weatherapi.com/v1/history.json?key=Dfe4267f3a1e40f68ed92609253103&q=Trondheim&dt=2025-03-14\n",
      "Det er en nettverksfeil som befinner seg på 2025-03-15 : 400 Client Error: Bad Request for url: https://api.weatherapi.com/v1/history.json?key=Dfe4267f3a1e40f68ed92609253103&q=Trondheim&dt=2025-03-15\n",
      "Det er en nettverksfeil som befinner seg på 2025-03-16 : 400 Client Error: Bad Request for url: https://api.weatherapi.com/v1/history.json?key=Dfe4267f3a1e40f68ed92609253103&q=Trondheim&dt=2025-03-16\n",
      "Empty DataFrame\n",
      "Columns: []\n",
      "Index: []\n"
     ]
    }
   ],
   "source": [
    "#kor vi henter data i frå\n",
    "city = \"Trondheim\"\n",
    "start_date = datetime(2025, 1, 16) # start dato\n",
    "end_date = datetime(2025, 3, 16) # slutt dato\n",
    "\n",
    "#data for denne perioden\n",
    "df = hente_data_fra_api(city, start_date, end_date)\n",
    "print(df.head())\n"
   ]
  }
 ],
 "metadata": {
  "kernelspec": {
   "display_name": "Python 3",
   "language": "python",
   "name": "python3"
  },
  "language_info": {
   "codemirror_mode": {
    "name": "ipython",
    "version": 3
   },
   "file_extension": ".py",
   "mimetype": "text/x-python",
   "name": "python",
   "nbconvert_exporter": "python",
   "pygments_lexer": "ipython3",
   "version": "3.13.2"
  }
 },
 "nbformat": 4,
 "nbformat_minor": 2
}
