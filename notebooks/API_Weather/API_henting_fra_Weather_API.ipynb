{
 "cells": [
  {
   "cell_type": "markdown",
   "metadata": {},
   "source": [
    "# API WEATHER"
   ]
  },
  {
   "cell_type": "markdown",
   "metadata": {},
   "source": [
    "### Henter og lagrer data fra API Weather for Trondheim"
   ]
  },
  {
   "cell_type": "code",
   "execution_count": null,
   "metadata": {},
   "outputs": [],
   "source": [
    "import requests #for å hente ut data fra api\n",
    "import pandas as pd #tabeller\n",
    "from datetime import datetime, timedelta\n",
    "import os\n",
    "from dotenv import load_dotenv\n",
    "import sys\n",
    "sys.path.insert(0,'../../src') #legger til SRC, slik vi kan importere kode derifra\n",
    "from Api_weather import hente_data_fra_api"
   ]
  },
  {
   "cell_type": "code",
   "execution_count": null,
   "metadata": {},
   "outputs": [
    {
     "name": "stdout",
     "output_type": "stream",
     "text": [
      "          Tidspunkt  Temperatur (°C)  Vindhastighet (km/t)   Trykk  \\\n",
      "0  2025-01-16 00:00              5.7                  17.5  1014.0   \n",
      "1  2025-01-16 01:00              6.9                  21.9  1014.0   \n",
      "2  2025-01-16 02:00              6.8                  19.8  1015.0   \n",
      "3  2025-01-16 03:00              6.4                  22.0  1015.0   \n",
      "4  2025-01-16 04:00              6.7                  20.9  1015.0   \n",
      "\n",
      "   Nedbør (mm)  \n",
      "0          2.1  \n",
      "1          0.9  \n",
      "2          0.3  \n",
      "3          0.1  \n",
      "4          0.0  \n"
     ]
    }
   ],
   "source": [
    "#kor vi henter data i frå\n",
    "city = \"Trondheim\"\n",
    "start_date = datetime(2025, 1, 16) # start dato\n",
    "end_date = datetime(2025, 3, 16) # slutt dato\n",
    "\n",
    "#data for denne perioden\n",
    "df = hente_data_fra_api(city, start_date, end_date)\n",
    "print(df.head())\n"
   ]
  }
 ],
 "metadata": {
  "kernelspec": {
   "display_name": "Python 3",
   "language": "python",
   "name": "python3"
  },
  "language_info": {
   "codemirror_mode": {
    "name": "ipython",
    "version": 3
   },
   "file_extension": ".py",
   "mimetype": "text/x-python",
   "name": "python",
   "nbconvert_exporter": "python",
   "pygments_lexer": "ipython3",
   "version": "3.12.6"
  }
 },
 "nbformat": 4,
 "nbformat_minor": 2
}
