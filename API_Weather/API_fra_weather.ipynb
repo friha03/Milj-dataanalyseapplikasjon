{
 "cells": [
  {
   "cell_type": "code",
   "execution_count": 1,
   "metadata": {},
   "outputs": [
    {
     "ename": "ModuleNotFoundError",
     "evalue": "No module named 'requests'",
     "output_type": "error",
     "traceback": [
      "\u001b[31m---------------------------------------------------------------------------\u001b[39m",
      "\u001b[31mModuleNotFoundError\u001b[39m                       Traceback (most recent call last)",
      "\u001b[36mCell\u001b[39m\u001b[36m \u001b[39m\u001b[32mIn[1]\u001b[39m\u001b[32m, line 1\u001b[39m\n\u001b[32m----> \u001b[39m\u001b[32m1\u001b[39m \u001b[38;5;28;01mimport\u001b[39;00m\u001b[38;5;250m \u001b[39m\u001b[34;01mrequests\u001b[39;00m\n\u001b[32m      2\u001b[39m \u001b[38;5;28;01mimport\u001b[39;00m\u001b[38;5;250m \u001b[39m\u001b[34;01mpandas\u001b[39;00m\u001b[38;5;250m \u001b[39m\u001b[38;5;28;01mas\u001b[39;00m\u001b[38;5;250m \u001b[39m\u001b[34;01mpd\u001b[39;00m\n\u001b[32m      3\u001b[39m \u001b[38;5;28;01mfrom\u001b[39;00m\u001b[38;5;250m \u001b[39m\u001b[34;01mdatetime\u001b[39;00m\u001b[38;5;250m \u001b[39m\u001b[38;5;28;01mimport\u001b[39;00m datetime, timedelta\n",
      "\u001b[31mModuleNotFoundError\u001b[39m: No module named 'requests'"
     ]
    }
   ],
   "source": [
    "import requests\n",
    "import pandas as pd\n",
    "from datetime import datetime, timedelta\n",
    "import os\n",
    "from dotenv import load_dotenv\n",
    "\n",
    "load_dotenv()\n",
    "api_key_1 = os.getenv('API_KEY') #Gjør dette med enn .env fil\n",
    "print(api_key_1)\n",
    "base_URL = os.getenv('DATABASE_URL')\n",
    "\n",
    "\n",
    "\n",
    "if not api_key_1 or not base_URL:\n",
    "    raise ValueError (\"DATABASE/APIKEY mangler i .env filen\")\n",
    "\n",
    "city = \"Trondheim\"\n",
    "start_date = datetime(2025, 1, 16)\n",
    "end_date = datetime(2025, 3, 16)\n",
    "\n",
    "vaerdata = []\n",
    "\n",
    "current_date = start_date\n",
    "while current_date <= end_date:\n",
    "    date_str = current_date.strftime(\"%Y-%m-%d\")\n",
    "    url = f\"{base_URL}/history.json?key={api_key_1}&q={city}&dt={date_str}\"\n",
    "\n",
    "\n",
    "\n",
    "    response = requests.get(url)\n",
    "\n",
    "    if response.status_code == 200: #Kontroll for vellykket API-kall\n",
    "        data = response.json()\n",
    "    else: \n",
    "        print(f\"Feil ved henting av data fra API-et for {date_str} : {response.status_code} \")\n",
    "        current_date += timedelta(days=1)\n",
    "        continue\n",
    "\n",
    "\n",
    "    for hour_data in data.get(\"forecast\", {}).get(\"forecastday\", [])[0].get(\"hour\", []):\n",
    "        tidspunkt = hour_data.get(\"time\", \"Ukjent tidspunk\")\n",
    "        temperatur = hour_data.get(\"temp_c\", \"Ukjent temperatur\")\n",
    "        vindhastighet = hour_data.get(\"wind_kph\", \"Ukjent vindhastighet\")\n",
    "        pressure_mb = hour_data.get(\"pressure_mb\", \"Ukjent trykk\" )\n",
    "        nedbør = hour_data.get(\"precip_mm\", \"Ukjent nedbør\")\n",
    "\n",
    "        vaerdata.append({\n",
    "            \"Tidspunkt\" : tidspunkt, \n",
    "            \"Temperatur (°C)\" : temperatur, \n",
    "            \"Vindhastighet (km/t)\" : vindhastighet,\n",
    "            \"Trykk\" : pressure_mb, \n",
    "            \"Nedbør (mm)\" : nedbør\n",
    "        })\n",
    "\n",
    "    current_date += timedelta (days=1)\n",
    "\n",
    "df = pd.DataFrame(vaerdata)\n",
    "\n",
    "df.to_csv(\"trondheim_vaerdata_full_1.csv\", index = False, encoding=\"utf-8\")\n",
    "\n",
    "print(\"data lagret i trondheim_vaerdata_full_1.csv\")\n",
    "\n",
    "print(df.head())\n",
    "\n",
    "\n"
   ]
  },
  {
   "cell_type": "code",
   "execution_count": null,
   "metadata": {},
   "outputs": [],
   "source": [
    "a"
   ]
  }
 ],
 "metadata": {
  "kernelspec": {
   "display_name": "venv",
   "language": "python",
   "name": "python3"
  },
  "language_info": {
   "codemirror_mode": {
    "name": "ipython",
    "version": 3
   },
   "file_extension": ".py",
   "mimetype": "text/x-python",
   "name": "python",
   "nbconvert_exporter": "python",
   "pygments_lexer": "ipython3",
   "version": "3.11.5"
  }
 },
 "nbformat": 4,
 "nbformat_minor": 2
}
