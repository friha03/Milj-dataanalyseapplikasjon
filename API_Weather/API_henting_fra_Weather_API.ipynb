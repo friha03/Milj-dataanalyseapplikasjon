{
 "cells": [
  {
   "cell_type": "code",
   "execution_count": 4,
   "metadata": {},
   "outputs": [
    {
     "ename": "ModuleNotFoundError",
     "evalue": "No module named 'source'",
     "output_type": "error",
     "traceback": [
      "\u001b[1;31m---------------------------------------------------------------------------\u001b[0m",
      "\u001b[1;31mModuleNotFoundError\u001b[0m                       Traceback (most recent call last)",
      "Cell \u001b[1;32mIn[4], line 7\u001b[0m\n\u001b[0;32m      4\u001b[0m \u001b[38;5;28;01mimport\u001b[39;00m \u001b[38;5;21;01mos\u001b[39;00m\n\u001b[0;32m      5\u001b[0m \u001b[38;5;28;01mfrom\u001b[39;00m \u001b[38;5;21;01mdotenv\u001b[39;00m \u001b[38;5;28;01mimport\u001b[39;00m load_dotenv\n\u001b[1;32m----> 7\u001b[0m \u001b[38;5;28;01mfrom\u001b[39;00m \u001b[38;5;21;01msource\u001b[39;00m\u001b[38;5;21;01m.\u001b[39;00m\u001b[38;5;21;01mApi_weather\u001b[39;00m \u001b[38;5;28;01mimport\u001b[39;00m hente_data_fra_api\n\u001b[0;32m     10\u001b[0m load_dotenv()\n\u001b[0;32m     11\u001b[0m api_key_1 \u001b[38;5;241m=\u001b[39m os\u001b[38;5;241m.\u001b[39mgetenv(\u001b[38;5;124m'\u001b[39m\u001b[38;5;124mAPI_KEY_1\u001b[39m\u001b[38;5;124m'\u001b[39m) \u001b[38;5;66;03m#Gjør dette med enn .env fil\u001b[39;00m\n",
      "\u001b[1;31mModuleNotFoundError\u001b[0m: No module named 'source'"
     ]
    }
   ],
   "source": [
    "import requests\n",
    "import pandas as pd\n",
    "from datetime import datetime, timedelta\n",
    "import os\n",
    "from dotenv import load_dotenv\n",
    "\n",
    "from source.Api_weather import hente_data_fra_api\n",
    "\n",
    "\n",
    "load_dotenv()\n",
    "api_key_1 = os.getenv('API_KEY_1') #Gjør dette med enn .env fil\n",
    "print(api_key_1)\n",
    "base_URL = os.getenv('DATABASE_URL')\n",
    "\n",
    "\n",
    "\n",
    "if not api_key_1 or not base_URL:\n",
    "    raise ValueError (\"DATABASE/APIKEY mangler i .env filen\")\n",
    "\n",
    "city = \"Trondheim\"\n",
    "start_date = datetime(2025, 1, 16)\n",
    "end_date = datetime(2025, 3, 16)\n",
    "\n",
    "\n",
    "df = hente_data_fra_api(city, start_date, end_date)\n",
    "print(df.head())\n",
    "\n",
    "\n"
   ]
  }
 ],
 "metadata": {
  "kernelspec": {
   "display_name": "Python 3",
   "language": "python",
   "name": "python3"
  },
  "language_info": {
   "codemirror_mode": {
    "name": "ipython",
    "version": 3
   },
   "file_extension": ".py",
   "mimetype": "text/x-python",
   "name": "python",
   "nbconvert_exporter": "python",
   "pygments_lexer": "ipython3",
   "version": "3.12.6"
  }
 },
 "nbformat": 4,
 "nbformat_minor": 2
}
