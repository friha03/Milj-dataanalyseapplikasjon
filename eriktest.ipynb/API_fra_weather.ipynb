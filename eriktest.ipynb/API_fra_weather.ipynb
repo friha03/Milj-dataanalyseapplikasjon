{
 "cells": [
  {
   "cell_type": "code",
   "execution_count": 21,
   "metadata": {},
   "outputs": [
    {
     "name": "stdout",
     "output_type": "stream",
     "text": [
      "Note: you may need to restart the kernel to use updated packages.Requirement already satisfied: pandas in c:\\users\\eriks\\appdata\\local\\programs\\python\\python312\\lib\\site-packages (2.2.3)\n",
      "Requirement already satisfied: numpy>=1.26.0 in c:\\users\\eriks\\appdata\\local\\programs\\python\\python312\\lib\\site-packages (from pandas) (2.1.1)\n",
      "Requirement already satisfied: python-dateutil>=2.8.2 in c:\\users\\eriks\\appdata\\local\\programs\\python\\python312\\lib\\site-packages (from pandas) (2.9.0.post0)\n",
      "Requirement already satisfied: pytz>=2020.1 in c:\\users\\eriks\\appdata\\local\\programs\\python\\python312\\lib\\site-packages (from pandas) (2025.1)\n",
      "Requirement already satisfied: tzdata>=2022.7 in c:\\users\\eriks\\appdata\\local\\programs\\python\\python312\\lib\\site-packages (from pandas) (2025.1)\n",
      "Requirement already satisfied: six>=1.5 in c:\\users\\eriks\\appdata\\local\\programs\\python\\python312\\lib\\site-packages (from python-dateutil>=2.8.2->pandas) (1.16.0)\n",
      "\n"
     ]
    },
    {
     "name": "stderr",
     "output_type": "stream",
     "text": [
      "\n",
      "[notice] A new release of pip is available: 24.2 -> 25.0.1\n",
      "[notice] To update, run: python.exe -m pip install --upgrade pip\n"
     ]
    }
   ],
   "source": [
    "pip install pandas"
   ]
  },
  {
   "cell_type": "code",
   "execution_count": 22,
   "metadata": {},
   "outputs": [
    {
     "name": "stdout",
     "output_type": "stream",
     "text": [
      "Requirement already satisfied: requests in c:\\users\\eriks\\appdata\\local\\programs\\python\\python312\\lib\\site-packages (2.32.3)\n",
      "Requirement already satisfied: charset-normalizer<4,>=2 in c:\\users\\eriks\\appdata\\local\\programs\\python\\python312\\lib\\site-packages (from requests) (3.4.1)\n",
      "Note: you may need to restart the kernel to use updated packages.Requirement already satisfied: idna<4,>=2.5 in c:\\users\\eriks\\appdata\\local\\programs\\python\\python312\\lib\\site-packages (from requests) (3.10)\n",
      "\n",
      "Requirement already satisfied: urllib3<3,>=1.21.1 in c:\\users\\eriks\\appdata\\local\\programs\\python\\python312\\lib\\site-packages (from requests) (2.3.0)\n",
      "Requirement already satisfied: certifi>=2017.4.17 in c:\\users\\eriks\\appdata\\local\\programs\\python\\python312\\lib\\site-packages (from requests) (2025.1.31)\n"
     ]
    },
    {
     "name": "stderr",
     "output_type": "stream",
     "text": [
      "\n",
      "[notice] A new release of pip is available: 24.2 -> 25.0.1\n",
      "[notice] To update, run: python.exe -m pip install --upgrade pip\n"
     ]
    }
   ],
   "source": [
    "pip install requests"
   ]
  },
  {
   "cell_type": "code",
   "execution_count": 24,
   "metadata": {},
   "outputs": [
    {
     "name": "stdout",
     "output_type": "stream",
     "text": [
      "Requirement already satisfied: pandasql in c:\\users\\eriks\\appdata\\local\\programs\\python\\python312\\lib\\site-packages (0.7.3)Note: you may need to restart the kernel to use updated packages.\n"
     ]
    },
    {
     "name": "stderr",
     "output_type": "stream",
     "text": [
      "\n",
      "[notice] A new release of pip is available: 24.2 -> 25.0.1\n",
      "[notice] To update, run: python.exe -m pip install --upgrade pip\n"
     ]
    },
    {
     "name": "stdout",
     "output_type": "stream",
     "text": [
      "\n",
      "Requirement already satisfied: numpy in c:\\users\\eriks\\appdata\\local\\programs\\python\\python312\\lib\\site-packages (from pandasql) (2.1.1)\n",
      "Requirement already satisfied: pandas in c:\\users\\eriks\\appdata\\local\\programs\\python\\python312\\lib\\site-packages (from pandasql) (2.2.3)\n",
      "Requirement already satisfied: sqlalchemy in c:\\users\\eriks\\appdata\\local\\programs\\python\\python312\\lib\\site-packages (from pandasql) (2.0.39)\n",
      "Requirement already satisfied: python-dateutil>=2.8.2 in c:\\users\\eriks\\appdata\\local\\programs\\python\\python312\\lib\\site-packages (from pandas->pandasql) (2.9.0.post0)\n",
      "Requirement already satisfied: pytz>=2020.1 in c:\\users\\eriks\\appdata\\local\\programs\\python\\python312\\lib\\site-packages (from pandas->pandasql) (2025.1)\n",
      "Requirement already satisfied: tzdata>=2022.7 in c:\\users\\eriks\\appdata\\local\\programs\\python\\python312\\lib\\site-packages (from pandas->pandasql) (2025.1)\n",
      "Requirement already satisfied: greenlet!=0.4.17 in c:\\users\\eriks\\appdata\\local\\programs\\python\\python312\\lib\\site-packages (from sqlalchemy->pandasql) (3.1.1)\n",
      "Requirement already satisfied: typing-extensions>=4.6.0 in c:\\users\\eriks\\appdata\\local\\programs\\python\\python312\\lib\\site-packages (from sqlalchemy->pandasql) (4.12.2)\n",
      "Requirement already satisfied: six>=1.5 in c:\\users\\eriks\\appdata\\local\\programs\\python\\python312\\lib\\site-packages (from python-dateutil>=2.8.2->pandas->pandasql) (1.16.0)\n"
     ]
    }
   ],
   "source": [
    "pip install pandasql"
   ]
  },
  {
   "cell_type": "code",
   "execution_count": 23,
   "metadata": {},
   "outputs": [
    {
     "name": "stdout",
     "output_type": "stream",
     "text": [
      "Requirement already satisfied: python-dotenv in c:\\users\\eriks\\appdata\\local\\programs\\python\\python312\\lib\\site-packages (1.0.1)\n",
      "Note: you may need to restart the kernel to use updated packages.\n"
     ]
    },
    {
     "name": "stderr",
     "output_type": "stream",
     "text": [
      "\n",
      "[notice] A new release of pip is available: 24.2 -> 25.0.1\n",
      "[notice] To update, run: python.exe -m pip install --upgrade pip\n"
     ]
    }
   ],
   "source": [
    "pip install python-dotenv"
   ]
  },
  {
   "cell_type": "code",
   "execution_count": 6,
   "metadata": {},
   "outputs": [
    {
     "name": "stdout",
     "output_type": "stream",
     "text": [
      "b2fc4b14d4e74d6cb31113130252003\n",
      "data lagret i trondheim_vaerdata_full.csv\n",
      "          Tidspunkt  Temperatur (°C)  Vindhastighet (km/t)   Trykk  \\\n",
      "0  2025-01-16 00:00              5.7                  21.6  1014.0   \n",
      "1  2025-01-16 01:00              6.9                  28.4  1014.0   \n",
      "2  2025-01-16 02:00              6.8                  26.6  1015.0   \n",
      "3  2025-01-16 03:00              6.4                  22.0  1015.0   \n",
      "4  2025-01-16 04:00              6.7                  20.9  1015.0   \n",
      "\n",
      "   Nedbør (mm)  \n",
      "0         1.09  \n",
      "1         0.12  \n",
      "2         0.03  \n",
      "3         0.01  \n",
      "4         0.01  \n"
     ]
    }
   ],
   "source": [
    "import requests\n",
    "import pandas as pd\n",
    "from datetime import datetime, timedelta\n",
    "import os\n",
    "from dotenv import load_dotenv\n",
    "\n",
    "load_dotenv()\n",
    "api_key_1 = os.getenv('API_KEY') #Gjør dette med enn .env fil\n",
    "print(api_key_1)\n",
    "base_URL = os.getenv('DATABASE_URL')\n",
    "\n",
    "\n",
    "\n",
    "if not api_key_1 or not base_URL:\n",
    "    raise ValueError (\"DATABASE/APIKEY mangler i .env filen\")\n",
    "\n",
    "city = \"Trondheim\"\n",
    "start_date = datetime(2025, 1, 16)\n",
    "end_date = datetime(2025, 3, 16)\n",
    "\n",
    "vaerdata = []\n",
    "\n",
    "current_date = start_date\n",
    "while current_date <= end_date:\n",
    "    date_str = current_date.strftime(\"%Y-%m-%d\")\n",
    "    url = f\"{base_URL}/history.json?key={api_key_1}&q={city}&dt={date_str}\"\n",
    "\n",
    "\n",
    "\n",
    "    response = requests.get(url)\n",
    "\n",
    "    if response.status_code == 200: #Kontroll for vellykket API-kall\n",
    "        data = response.json()\n",
    "    else: \n",
    "        print(f\"Feil ved henting av data fra API-et for {date_str} : {response.status_code} \")\n",
    "        current_date += timedelta(days=1)\n",
    "        continue\n",
    "\n",
    "\n",
    "    for hour_data in data.get(\"forecast\", {}).get(\"forecastday\", [])[0].get(\"hour\", []):\n",
    "        tidspunkt = hour_data.get(\"time\", \"Ukjent tidspunk\")\n",
    "        temperatur = hour_data.get(\"temp_c\", \"Ukjent temperatur\")\n",
    "        vindhastighet = hour_data.get(\"wind_kph\", \"Ukjent vindhastighet\")\n",
    "        pressure_mb = hour_data.get(\"pressure_mb\", \"Ukjent trykk\" )\n",
    "        nedbør = hour_data.get(\"precip_mm\", \"Ukjent nedbør\")\n",
    "\n",
    "        vaerdata.append({\n",
    "            \"Tidspunkt\" : tidspunkt, \n",
    "            \"Temperatur (°C)\" : temperatur, \n",
    "            \"Vindhastighet (km/t)\" : vindhastighet,\n",
    "            \"Trykk\" : pressure_mb, \n",
    "            \"Nedbør (mm)\" : nedbør\n",
    "        })\n",
    "\n",
    "    current_date += timedelta (days=1)\n",
    "\n",
    "df = pd.DataFrame(vaerdata)\n",
    "\n",
    "df.to_csv(\"trondheim_vaerdata_full.csv\", index = False, encoding=\"utf-8\")\n",
    "\n",
    "print(\"data lagret i trondheim_vaerdata_full.csv\")\n",
    "\n",
    "print(df.head())\n",
    "\n",
    "\n",
    "\n",
    "\n"
   ]
  }
 ],
 "metadata": {
  "kernelspec": {
   "display_name": "Python 3",
   "language": "python",
   "name": "python3"
  },
  "language_info": {
   "codemirror_mode": {
    "name": "ipython",
    "version": 3
   },
   "file_extension": ".py",
   "mimetype": "text/x-python",
   "name": "python",
   "nbconvert_exporter": "python",
   "pygments_lexer": "ipython3",
   "version": "3.12.6"
  }
 },
 "nbformat": 4,
 "nbformat_minor": 2
}
