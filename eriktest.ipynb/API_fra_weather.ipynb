{
 "cells": [
  {
   "cell_type": "code",
   "execution_count": 1,
   "metadata": {},
   "outputs": [
    {
     "name": "stdout",
     "output_type": "stream",
     "text": [
      "Requirement already satisfied: pandas in c:\\users\\eriks\\appdata\\local\\programs\\python\\python312\\lib\\site-packages (2.2.3)\n",
      "Requirement already satisfied: numpy>=1.26.0 in c:\\users\\eriks\\appdata\\local\\programs\\python\\python312\\lib\\site-packages (from pandas) (2.1.1)\n",
      "Requirement already satisfied: python-dateutil>=2.8.2 in c:\\users\\eriks\\appdata\\local\\programs\\python\\python312\\lib\\site-packages (from pandas) (2.9.0.post0)\n",
      "Requirement already satisfied: pytz>=2020.1 in c:\\users\\eriks\\appdata\\local\\programs\\python\\python312\\lib\\site-packages (from pandas) (2025.1)\n",
      "Requirement already satisfied: tzdata>=2022.7 in c:\\users\\eriks\\appdata\\local\\programs\\python\\python312\\lib\\site-packages (from pandas) (2025.1)\n",
      "Requirement already satisfied: six>=1.5 in c:\\users\\eriks\\appdata\\local\\programs\\python\\python312\\lib\\site-packages (from python-dateutil>=2.8.2->pandas) (1.16.0)\n",
      "Note: you may need to restart the kernel to use updated packages.\n"
     ]
    },
    {
     "name": "stderr",
     "output_type": "stream",
     "text": [
      "\n",
      "[notice] A new release of pip is available: 24.2 -> 25.0.1\n",
      "[notice] To update, run: python.exe -m pip install --upgrade pip\n"
     ]
    }
   ],
   "source": [
    "pip install pandas"
   ]
  },
  {
   "cell_type": "code",
   "execution_count": 2,
   "metadata": {},
   "outputs": [
    {
     "name": "stdout",
     "output_type": "stream",
     "text": [
      "Requirement already satisfied: requests in c:\\users\\eriks\\appdata\\local\\programs\\python\\python312\\lib\\site-packages (2.32.3)\n",
      "Requirement already satisfied: charset-normalizer<4,>=2 in c:\\users\\eriks\\appdata\\local\\programs\\python\\python312\\lib\\site-packages (from requests) (3.4.1)\n",
      "Requirement already satisfied: idna<4,>=2.5 in c:\\users\\eriks\\appdata\\local\\programs\\python\\python312\\lib\\site-packages (from requests) (3.10)\n",
      "Requirement already satisfied: urllib3<3,>=1.21.1 in c:\\users\\eriks\\appdata\\local\\programs\\python\\python312\\lib\\site-packages (from requests) (2.3.0)\n",
      "Requirement already satisfied: certifi>=2017.4.17 in c:\\users\\eriks\\appdata\\local\\programs\\python\\python312\\lib\\site-packages (from requests) (2025.1.31)\n",
      "Note: you may need to restart the kernel to use updated packages.\n"
     ]
    },
    {
     "name": "stderr",
     "output_type": "stream",
     "text": [
      "\n",
      "[notice] A new release of pip is available: 24.2 -> 25.0.1\n",
      "[notice] To update, run: python.exe -m pip install --upgrade pip\n"
     ]
    }
   ],
   "source": [
    "pip install requests"
   ]
  },
  {
   "cell_type": "code",
   "execution_count": 3,
   "metadata": {},
   "outputs": [
    {
     "name": "stdout",
     "output_type": "stream",
     "text": [
      "Requirement already satisfied: pandasql in c:\\users\\eriks\\appdata\\local\\programs\\python\\python312\\lib\\site-packages (0.7.3)\n",
      "Requirement already satisfied: numpy in c:\\users\\eriks\\appdata\\local\\programs\\python\\python312\\lib\\site-packages (from pandasql) (2.1.1)\n",
      "Requirement already satisfied: pandas in c:\\users\\eriks\\appdata\\local\\programs\\python\\python312\\lib\\site-packages (from pandasql) (2.2.3)\n",
      "Requirement already satisfied: sqlalchemy in c:\\users\\eriks\\appdata\\local\\programs\\python\\python312\\lib\\site-packages (from pandasql) (2.0.39)\n",
      "Requirement already satisfied: python-dateutil>=2.8.2 in c:\\users\\eriks\\appdata\\local\\programs\\python\\python312\\lib\\site-packages (from pandas->pandasql) (2.9.0.post0)\n",
      "Requirement already satisfied: pytz>=2020.1 in c:\\users\\eriks\\appdata\\local\\programs\\python\\python312\\lib\\site-packages (from pandas->pandasql) (2025.1)\n",
      "Requirement already satisfied: tzdata>=2022.7 in c:\\users\\eriks\\appdata\\local\\programs\\python\\python312\\lib\\site-packages (from pandas->pandasql) (2025.1)\n",
      "Requirement already satisfied: greenlet!=0.4.17 in c:\\users\\eriks\\appdata\\local\\programs\\python\\python312\\lib\\site-packages (from sqlalchemy->pandasql) (3.1.1)\n",
      "Requirement already satisfied: typing-extensions>=4.6.0 in c:\\users\\eriks\\appdata\\local\\programs\\python\\python312\\lib\\site-packages (from sqlalchemy->pandasql) (4.12.2)\n",
      "Requirement already satisfied: six>=1.5 in c:\\users\\eriks\\appdata\\local\\programs\\python\\python312\\lib\\site-packages (from python-dateutil>=2.8.2->pandas->pandasql) (1.16.0)\n",
      "Note: you may need to restart the kernel to use updated packages.\n"
     ]
    },
    {
     "name": "stderr",
     "output_type": "stream",
     "text": [
      "\n",
      "[notice] A new release of pip is available: 24.2 -> 25.0.1\n",
      "[notice] To update, run: python.exe -m pip install --upgrade pip\n"
     ]
    }
   ],
   "source": [
    "pip install pandasql"
   ]
  },
  {
   "cell_type": "code",
   "execution_count": 10,
   "metadata": {},
   "outputs": [
    {
     "name": "stdout",
     "output_type": "stream",
     "text": [
      "Requirement already satisfied: python-dotenv in c:\\users\\eriks\\appdata\\local\\programs\\python\\python312\\lib\\site-packages (1.0.1)\n",
      "Note: you may need to restart the kernel to use updated packages.\n"
     ]
    },
    {
     "name": "stderr",
     "output_type": "stream",
     "text": [
      "\n",
      "[notice] A new release of pip is available: 24.2 -> 25.0.1\n",
      "[notice] To update, run: python.exe -m pip install --upgrade pip\n"
     ]
    }
   ],
   "source": [
    "pip install python-dotenv"
   ]
  },
  {
   "cell_type": "code",
   "execution_count": 11,
   "metadata": {},
   "outputs": [
    {
     "name": "stdout",
     "output_type": "stream",
     "text": [
      "API Key:  Kum3wxbZrSeVQDPl6wHTt5aLlbQSzKqTNYaTQUNt\n",
      "Base_URL:  https://api.weatherapi.com/v1/history.json\n",
      "Feil ved henting av data fra API-et for 2025-02-16 : 403 \n",
      "Feil ved henting av data fra API-et for 2025-02-17 : 403 \n",
      "Feil ved henting av data fra API-et for 2025-02-18 : 403 \n",
      "Feil ved henting av data fra API-et for 2025-02-19 : 403 \n",
      "Feil ved henting av data fra API-et for 2025-02-20 : 403 \n",
      "Feil ved henting av data fra API-et for 2025-02-21 : 403 \n",
      "Feil ved henting av data fra API-et for 2025-02-22 : 403 \n",
      "Feil ved henting av data fra API-et for 2025-02-23 : 403 \n",
      "Feil ved henting av data fra API-et for 2025-02-24 : 403 \n",
      "Feil ved henting av data fra API-et for 2025-02-25 : 403 \n",
      "Feil ved henting av data fra API-et for 2025-02-26 : 403 \n",
      "Feil ved henting av data fra API-et for 2025-02-27 : 403 \n",
      "Feil ved henting av data fra API-et for 2025-02-28 : 403 \n",
      "Feil ved henting av data fra API-et for 2025-03-01 : 403 \n",
      "Feil ved henting av data fra API-et for 2025-03-02 : 403 \n",
      "Feil ved henting av data fra API-et for 2025-03-03 : 403 \n",
      "Feil ved henting av data fra API-et for 2025-03-04 : 403 \n",
      "Feil ved henting av data fra API-et for 2025-03-05 : 403 \n",
      "Feil ved henting av data fra API-et for 2025-03-06 : 403 \n",
      "Feil ved henting av data fra API-et for 2025-03-07 : 403 \n",
      "Feil ved henting av data fra API-et for 2025-03-08 : 403 \n",
      "Feil ved henting av data fra API-et for 2025-03-09 : 403 \n",
      "Feil ved henting av data fra API-et for 2025-03-10 : 403 \n",
      "Feil ved henting av data fra API-et for 2025-03-11 : 403 \n",
      "Feil ved henting av data fra API-et for 2025-03-12 : 403 \n",
      "Feil ved henting av data fra API-et for 2025-03-13 : 403 \n",
      "Feil ved henting av data fra API-et for 2025-03-14 : 403 \n",
      "Feil ved henting av data fra API-et for 2025-03-15 : 403 \n",
      "Feil ved henting av data fra API-et for 2025-03-16 : 403 \n",
      "data lagret i trondheim_vaerdata_full.csv\n",
      "Empty DataFrame\n",
      "Columns: []\n",
      "Index: []\n"
     ]
    }
   ],
   "source": [
    "import requests\n",
    "import pandas as pd\n",
    "from datetime import datetime, timedelta\n",
    "import os\n",
    "from dotenv import load_dotenv\n",
    "\n",
    "load_dotenv()\n",
    "api_key = os.getenv('API_KEY') #Gjør dette med enn .env fil\n",
    "base_URL = os.getenv('DATABASE_URL')\n",
    "\n",
    "print(\"API Key: \", api_key)\n",
    "print(\"Base_URL: \", base_URL)\n",
    "\n",
    "if not api_key or not base_URL:\n",
    "    raise ValueError (\"DATABASE/APIKEY mangler i .env filen\")\n",
    "\n",
    "city = \"Trondheim\"\n",
    "start_date = datetime(2025, 2, 16)\n",
    "end_date = datetime(2025, 3, 16)\n",
    "\n",
    "vaerdata = []\n",
    "\n",
    "current_date = start_date\n",
    "while current_date <= end_date:\n",
    "    date_str = current_date.strftime(\"%Y-%m-%d\")\n",
    "    url = f\"{base_URL}?key={api_key}&q={city}&dt={date_str}\"\n",
    "\n",
    "\n",
    "\n",
    "    response = requests.get(url)\n",
    "\n",
    "    if response.status_code == 200: #Kontroll for vellykket API-kall\n",
    "        data = response.json()\n",
    "    else: \n",
    "        print(f\"Feil ved henting av data fra API-et for {date_str} : {response.status_code} \")\n",
    "        current_date += timedelta(days=1)\n",
    "        continue\n",
    "\n",
    "\n",
    "    for hour_data in data.get(\"forecast\", {}).get(\"forecastday\", [])[0].get(\"hour\", []):\n",
    "        tidspunkt = hour_data.get(\"time\", \"Ukjent tidspunk\")\n",
    "        temperatur = hour_data.get(\"temp_c\", \"Ukjent temperatur\")\n",
    "        vindhastighet = hour_data.get(\"vind_kph\", \"Ukjent vindhastighet\")\n",
    "        nedbør = hour_data.get(\"precip_mm\", \"Ukjent nedbør\")\n",
    "\n",
    "        vaerdata.append({\n",
    "            \"Tidspunkt\" : tidspunkt, \n",
    "            \"Temperatur (°C)\" : temperatur, \n",
    "            \"Vindhastighet (km/t)\" : vindhastighet,\n",
    "            \"Nedbør (mm)\" : nedbør\n",
    "        })\n",
    "\n",
    "    current_date += timedelta (days=1)\n",
    "\n",
    "df = pd.DataFrame(vaerdata)\n",
    "\n",
    "df.to_csv(\"trondheim_vaerdata_full.csv\", index = False, encoding=\"utf-8\")\n",
    "\n",
    "print(\"data lagret i trondheim_vaerdata_full.csv\")\n",
    "\n",
    "print(df.head())\n",
    "\n",
    "\n",
    "\n",
    "\n"
   ]
  }
 ],
 "metadata": {
  "kernelspec": {
   "display_name": "Python 3",
   "language": "python",
   "name": "python3"
  },
  "language_info": {
   "codemirror_mode": {
    "name": "ipython",
    "version": 3
   },
   "file_extension": ".py",
   "mimetype": "text/x-python",
   "name": "python",
   "nbconvert_exporter": "python",
   "pygments_lexer": "ipython3",
   "version": "3.12.6"
  }
 },
 "nbformat": 4,
 "nbformat_minor": 2
}
