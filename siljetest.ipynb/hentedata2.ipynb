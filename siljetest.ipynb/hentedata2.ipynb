{
 "cells": [
  {
   "cell_type": "code",
   "execution_count": 1,
   "metadata": {},
   "outputs": [
    {
     "name": "stdout",
     "output_type": "stream",
     "text": [
      "Requirement already satisfied: pandas in c:\\users\\frida\\appdata\\local\\programs\\python\\python313\\lib\\site-packages (2.2.3)Note: you may need to restart the kernel to use updated packages.\n"
     ]
    },
    {
     "name": "stderr",
     "output_type": "stream",
     "text": [
      "\n",
      "[notice] A new release of pip is available: 24.3.1 -> 25.0.1\n",
      "[notice] To update, run: python.exe -m pip install --upgrade pip\n"
     ]
    },
    {
     "name": "stdout",
     "output_type": "stream",
     "text": [
      "\n",
      "Requirement already satisfied: numpy>=1.26.0 in c:\\users\\frida\\appdata\\local\\programs\\python\\python313\\lib\\site-packages (from pandas) (2.2.3)\n",
      "Requirement already satisfied: python-dateutil>=2.8.2 in c:\\users\\frida\\appdata\\roaming\\python\\python313\\site-packages (from pandas) (2.9.0.post0)\n",
      "Requirement already satisfied: pytz>=2020.1 in c:\\users\\frida\\appdata\\local\\programs\\python\\python313\\lib\\site-packages (from pandas) (2025.1)\n",
      "Requirement already satisfied: tzdata>=2022.7 in c:\\users\\frida\\appdata\\local\\programs\\python\\python313\\lib\\site-packages (from pandas) (2025.1)\n",
      "Requirement already satisfied: six>=1.5 in c:\\users\\frida\\appdata\\roaming\\python\\python313\\site-packages (from python-dateutil>=2.8.2->pandas) (1.17.0)\n"
     ]
    }
   ],
   "source": [
    "pip install pandas"
   ]
  },
  {
   "cell_type": "code",
   "execution_count": 2,
   "metadata": {},
   "outputs": [
    {
     "ename": "ValueError",
     "evalue": "❌ Feil ved API-forespørsel: 401 - {\n  \"@context\" : \"https://frost.met.no/schema\",\n  \"@type\" : \"ErrorResponse\",\n  \"apiVersion\" : \"v0\",\n  \"license\" : \"https://creativecommons.org/licenses/by/3.0/no/\",\n  \"createdAt\" : \"2025-03-19T14:52:43Z\",\n  \"queryTime\" : 0,\n  \"currentLink\" : \"https://frost.met.no/observations/v0.jsonld?sources=SN68360&elements=air_temperature,wind_speed,air_pressure_at_sea_level,precipitation_amount&referencetime=2025-02-17/2025-03-19\",\n  \"error\" : {\n    \"code\" : 401,\n    \"message\" : \"Unauthorized\",\n    \"reason\" : \"Invalid basic authentication\"\n  }\n}",
     "output_type": "error",
     "traceback": [
      "\u001b[1;31m---------------------------------------------------------------------------\u001b[0m",
      "\u001b[1;31mValueError\u001b[0m                                Traceback (most recent call last)",
      "Cell \u001b[1;32mIn[2], line 32\u001b[0m\n\u001b[0;32m     30\u001b[0m     data \u001b[38;5;241m=\u001b[39m response\u001b[38;5;241m.\u001b[39mjson()\n\u001b[0;32m     31\u001b[0m \u001b[38;5;28;01melse\u001b[39;00m:\n\u001b[1;32m---> 32\u001b[0m     \u001b[38;5;28;01mraise\u001b[39;00m \u001b[38;5;167;01mValueError\u001b[39;00m(\u001b[38;5;124mf\u001b[39m\u001b[38;5;124m\"\u001b[39m\u001b[38;5;124m❌ Feil ved API-forespørsel: \u001b[39m\u001b[38;5;132;01m{\u001b[39;00mresponse\u001b[38;5;241m.\u001b[39mstatus_code\u001b[38;5;132;01m}\u001b[39;00m\u001b[38;5;124m - \u001b[39m\u001b[38;5;132;01m{\u001b[39;00mresponse\u001b[38;5;241m.\u001b[39mtext\u001b[38;5;132;01m}\u001b[39;00m\u001b[38;5;124m\"\u001b[39m)\n\u001b[0;32m     34\u001b[0m \u001b[38;5;66;03m# 🔹 Ekstraher relevant værdata\u001b[39;00m\n\u001b[0;32m     35\u001b[0m weather_data \u001b[38;5;241m=\u001b[39m []\n",
      "\u001b[1;31mValueError\u001b[0m: ❌ Feil ved API-forespørsel: 401 - {\n  \"@context\" : \"https://frost.met.no/schema\",\n  \"@type\" : \"ErrorResponse\",\n  \"apiVersion\" : \"v0\",\n  \"license\" : \"https://creativecommons.org/licenses/by/3.0/no/\",\n  \"createdAt\" : \"2025-03-19T14:52:43Z\",\n  \"queryTime\" : 0,\n  \"currentLink\" : \"https://frost.met.no/observations/v0.jsonld?sources=SN68360&elements=air_temperature,wind_speed,air_pressure_at_sea_level,precipitation_amount&referencetime=2025-02-17/2025-03-19\",\n  \"error\" : {\n    \"code\" : 401,\n    \"message\" : \"Unauthorized\",\n    \"reason\" : \"Invalid basic authentication\"\n  }\n}"
     ]
    }
   ],
   "source": [
    "import os\n",
    "import requests\n",
    "import pandas as pd\n",
    "from datetime import datetime, timedelta\n",
    "from dotenv import load_dotenv\n",
    "\n",
    "# 🔹 Last inn API-nøkkel fra .env\n",
    "load_dotenv()\n",
    "api_key = os.getenv(\"API_KEY2\")  # Din API-nøkkel\n",
    "base_url = \"https://frost.met.no/observations/v0.jsonld\"\n",
    "\n",
    "# 🔹 Sjekk om API-nøkkel er hentet riktig\n",
    "if not api_key:\n",
    "    raise ValueError(\"❌ API-nøkkel mangler i .env-filen!\")\n",
    "\n",
    "# 🔹 Definer parametere\n",
    "source_id = \"SN68360\"  # Trondheim Voll\n",
    "elements = \"air_temperature,wind_speed,air_pressure_at_sea_level,precipitation_amount\"\n",
    "start_date = (datetime.now() - timedelta(days=30)).strftime(\"%Y-%m-%d\")\n",
    "end_date = datetime.now().strftime(\"%Y-%m-%d\")\n",
    "\n",
    "# 🔹 Bygg URL for forespørselen\n",
    "url = f\"{base_url}?sources={source_id}&elements={elements}&referencetime={start_date}/{end_date}\"\n",
    "\n",
    "# 🔹 Send API-forespørsel med autentisering\n",
    "response = requests.get(url, auth=(api_key, \"\"))\n",
    "\n",
    "# 🔹 Håndter API-responsen\n",
    "if response.status_code == 200:\n",
    "    data = response.json()\n",
    "else:\n",
    "    raise ValueError(f\"❌ Feil ved API-forespørsel: {response.status_code} - {response.text}\")\n",
    "\n",
    "# 🔹 Ekstraher relevant værdata\n",
    "weather_data = []\n",
    "for entry in data.get(\"data\", []):\n",
    "    timestamp = entry.get(\"referenceTime\", \"Ukjent tidspunkt\")\n",
    "    source = entry.get(\"sourceId\", \"Ukjent stasjon\")\n",
    "    observations = entry.get(\"observations\", [])\n",
    "\n",
    "    weather_entry = {\"Tidspunkt\": timestamp, \"Værstasjon\": source}\n",
    "    for obs in observations:\n",
    "        element = obs.get(\"elementId\", \"Ukjent element\")\n",
    "        value = obs.get(\"value\", \"Ukjent verdi\")\n",
    "        weather_entry[element] = value\n",
    "\n",
    "    weather_data.append(weather_entry)\n",
    "\n",
    "# 🔹 Konverter til Pandas DataFrame\n",
    "df = pd.DataFrame(weather_data)\n",
    "\n",
    "# 🔹 Lagre til CSV-fil\n",
    "df.to_csv(\"trondheim_vaerdata.csv\", index=False, encoding=\"utf-8\")\n",
    "\n",
    "# 🔹 Vis data\n",
    "print(\"✅ Data lagret i trondheim_vaerdata.csv\")\n",
    "print(df.head())\n"
   ]
  }
 ],
 "metadata": {
  "kernelspec": {
   "display_name": "Python 3",
   "language": "python",
   "name": "python3"
  },
  "language_info": {
   "codemirror_mode": {
    "name": "ipython",
    "version": 3
   },
   "file_extension": ".py",
   "mimetype": "text/x-python",
   "name": "python",
   "nbconvert_exporter": "python",
   "pygments_lexer": "ipython3",
   "version": "3.13.2"
  }
 },
 "nbformat": 4,
 "nbformat_minor": 2
}
